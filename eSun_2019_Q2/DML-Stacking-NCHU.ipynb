{
 "cells": [
  {
   "cell_type": "code",
   "execution_count": 1,
   "metadata": {},
   "outputs": [
    {
     "name": "stdout",
     "output_type": "stream",
     "text": [
      "Requirement already satisfied: vecstack in c:\\anaconda3\\lib\\site-packages (0.3.0)\n",
      "Requirement already satisfied: numpy in c:\\anaconda3\\lib\\site-packages (from vecstack) (1.19.2)\n",
      "Requirement already satisfied: scipy in c:\\anaconda3\\lib\\site-packages (from vecstack) (1.2.1)\n",
      "Requirement already satisfied: scikit-learn>=0.18 in c:\\anaconda3\\lib\\site-packages (from vecstack) (0.21.2)\n",
      "Requirement already satisfied: joblib>=0.11 in c:\\anaconda3\\lib\\site-packages (from scikit-learn>=0.18->vecstack) (0.13.2)\n"
     ]
    }
   ],
   "source": [
    "!pip install vecstack"
   ]
  },
  {
   "cell_type": "code",
   "execution_count": 2,
   "metadata": {
    "colab": {
     "base_uri": "https://localhost:8080/",
     "height": 899
    },
    "colab_type": "code",
    "executionInfo": {
     "elapsed": 31315,
     "status": "ok",
     "timestamp": 1563365229528,
     "user": {
      "displayName": "Yu Chun Lin",
      "photoUrl": "https://lh4.googleusercontent.com/-QkJGFXovVfg/AAAAAAAAAAI/AAAAAAAAAB8/0NUdCGR_qdc/s64/photo.jpg",
      "userId": "05915152332630955963"
     },
     "user_tz": -480
    },
    "id": "hvUq6MEs91PC",
    "outputId": "f319b406-e0b3-4755-c522-e81a1d90c130"
   },
   "outputs": [
    {
     "data": {
      "text/html": [
       "<div>\n",
       "<style scoped>\n",
       "    .dataframe tbody tr th:only-of-type {\n",
       "        vertical-align: middle;\n",
       "    }\n",
       "\n",
       "    .dataframe tbody tr th {\n",
       "        vertical-align: top;\n",
       "    }\n",
       "\n",
       "    .dataframe thead th {\n",
       "        text-align: right;\n",
       "    }\n",
       "</style>\n",
       "<table border=\"1\" class=\"dataframe\">\n",
       "  <thead>\n",
       "    <tr style=\"text-align: right;\">\n",
       "      <th></th>\n",
       "      <th>building_id</th>\n",
       "      <th>building_material</th>\n",
       "      <th>city</th>\n",
       "      <th>txn_dt</th>\n",
       "      <th>total_floor</th>\n",
       "      <th>building_type</th>\n",
       "      <th>building_use</th>\n",
       "      <th>building_complete_dt</th>\n",
       "      <th>parking_way</th>\n",
       "      <th>parking_area</th>\n",
       "      <th>...</th>\n",
       "      <th>elementary_rate_Int</th>\n",
       "      <th>born_rate_Int</th>\n",
       "      <th>death_rate_Int</th>\n",
       "      <th>marriage_rate_Int</th>\n",
       "      <th>divorce_rate_Int</th>\n",
       "      <th>parking_area_Int</th>\n",
       "      <th>parking_price_Int</th>\n",
       "      <th>land_area_Int</th>\n",
       "      <th>building_area_Int</th>\n",
       "      <th>buyEdu_rate</th>\n",
       "    </tr>\n",
       "  </thead>\n",
       "  <tbody>\n",
       "    <tr>\n",
       "      <th>0</th>\n",
       "      <td>AqhUZS25rJtQdqAO</td>\n",
       "      <td>8</td>\n",
       "      <td>21</td>\n",
       "      <td>19058</td>\n",
       "      <td>5</td>\n",
       "      <td>1</td>\n",
       "      <td>2</td>\n",
       "      <td>7520</td>\n",
       "      <td>2</td>\n",
       "      <td>0.0</td>\n",
       "      <td>...</td>\n",
       "      <td>14.0</td>\n",
       "      <td>737.0</td>\n",
       "      <td>772.0</td>\n",
       "      <td>574.0</td>\n",
       "      <td>239.0</td>\n",
       "      <td>0.0</td>\n",
       "      <td>0.0</td>\n",
       "      <td>15.0</td>\n",
       "      <td>5.0</td>\n",
       "      <td>31.0</td>\n",
       "    </tr>\n",
       "    <tr>\n",
       "      <th>1</th>\n",
       "      <td>mZ23AW3dCG9XuC0W</td>\n",
       "      <td>8</td>\n",
       "      <td>13</td>\n",
       "      <td>19853</td>\n",
       "      <td>12</td>\n",
       "      <td>0</td>\n",
       "      <td>2</td>\n",
       "      <td>7459</td>\n",
       "      <td>2</td>\n",
       "      <td>0.0</td>\n",
       "      <td>...</td>\n",
       "      <td>9.0</td>\n",
       "      <td>930.0</td>\n",
       "      <td>653.0</td>\n",
       "      <td>599.0</td>\n",
       "      <td>204.0</td>\n",
       "      <td>0.0</td>\n",
       "      <td>0.0</td>\n",
       "      <td>23.0</td>\n",
       "      <td>19.0</td>\n",
       "      <td>20.0</td>\n",
       "    </tr>\n",
       "    <tr>\n",
       "      <th>2</th>\n",
       "      <td>C1MyU36sancbi5om</td>\n",
       "      <td>8</td>\n",
       "      <td>3</td>\n",
       "      <td>19166</td>\n",
       "      <td>7</td>\n",
       "      <td>3</td>\n",
       "      <td>2</td>\n",
       "      <td>10838</td>\n",
       "      <td>2</td>\n",
       "      <td>0.0</td>\n",
       "      <td>...</td>\n",
       "      <td>14.0</td>\n",
       "      <td>604.0</td>\n",
       "      <td>788.0</td>\n",
       "      <td>576.0</td>\n",
       "      <td>278.0</td>\n",
       "      <td>0.0</td>\n",
       "      <td>0.0</td>\n",
       "      <td>15.0</td>\n",
       "      <td>12.0</td>\n",
       "      <td>33.0</td>\n",
       "    </tr>\n",
       "    <tr>\n",
       "      <th>3</th>\n",
       "      <td>lbsKRdRRBRDFNXZV</td>\n",
       "      <td>8</td>\n",
       "      <td>21</td>\n",
       "      <td>18712</td>\n",
       "      <td>3</td>\n",
       "      <td>4</td>\n",
       "      <td>2</td>\n",
       "      <td>6149</td>\n",
       "      <td>2</td>\n",
       "      <td>0.0</td>\n",
       "      <td>...</td>\n",
       "      <td>14.0</td>\n",
       "      <td>737.0</td>\n",
       "      <td>772.0</td>\n",
       "      <td>574.0</td>\n",
       "      <td>239.0</td>\n",
       "      <td>0.0</td>\n",
       "      <td>0.0</td>\n",
       "      <td>31.0</td>\n",
       "      <td>6.0</td>\n",
       "      <td>31.0</td>\n",
       "    </tr>\n",
       "    <tr>\n",
       "      <th>4</th>\n",
       "      <td>a4zcd3Bok3Vkhgm9</td>\n",
       "      <td>8</td>\n",
       "      <td>10</td>\n",
       "      <td>20234</td>\n",
       "      <td>5</td>\n",
       "      <td>1</td>\n",
       "      <td>2</td>\n",
       "      <td>9498</td>\n",
       "      <td>2</td>\n",
       "      <td>0.0</td>\n",
       "      <td>...</td>\n",
       "      <td>12.0</td>\n",
       "      <td>1081.0</td>\n",
       "      <td>587.0</td>\n",
       "      <td>672.0</td>\n",
       "      <td>269.0</td>\n",
       "      <td>0.0</td>\n",
       "      <td>0.0</td>\n",
       "      <td>16.0</td>\n",
       "      <td>6.0</td>\n",
       "      <td>30.0</td>\n",
       "    </tr>\n",
       "  </tbody>\n",
       "</table>\n",
       "<p>5 rows × 355 columns</p>\n",
       "</div>"
      ],
      "text/plain": [
       "        building_id  building_material  city  txn_dt  total_floor  \\\n",
       "0  AqhUZS25rJtQdqAO                  8    21   19058            5   \n",
       "1  mZ23AW3dCG9XuC0W                  8    13   19853           12   \n",
       "2  C1MyU36sancbi5om                  8     3   19166            7   \n",
       "3  lbsKRdRRBRDFNXZV                  8    21   18712            3   \n",
       "4  a4zcd3Bok3Vkhgm9                  8    10   20234            5   \n",
       "\n",
       "   building_type  building_use  building_complete_dt  parking_way  \\\n",
       "0              1             2                  7520            2   \n",
       "1              0             2                  7459            2   \n",
       "2              3             2                 10838            2   \n",
       "3              4             2                  6149            2   \n",
       "4              1             2                  9498            2   \n",
       "\n",
       "   parking_area  ...  elementary_rate_Int  born_rate_Int  death_rate_Int  \\\n",
       "0           0.0  ...                 14.0          737.0           772.0   \n",
       "1           0.0  ...                  9.0          930.0           653.0   \n",
       "2           0.0  ...                 14.0          604.0           788.0   \n",
       "3           0.0  ...                 14.0          737.0           772.0   \n",
       "4           0.0  ...                 12.0         1081.0           587.0   \n",
       "\n",
       "   marriage_rate_Int  divorce_rate_Int  parking_area_Int  parking_price_Int  \\\n",
       "0              574.0             239.0               0.0                0.0   \n",
       "1              599.0             204.0               0.0                0.0   \n",
       "2              576.0             278.0               0.0                0.0   \n",
       "3              574.0             239.0               0.0                0.0   \n",
       "4              672.0             269.0               0.0                0.0   \n",
       "\n",
       "   land_area_Int  building_area_Int  buyEdu_rate  \n",
       "0           15.0                5.0         31.0  \n",
       "1           23.0               19.0         20.0  \n",
       "2           15.0               12.0         33.0  \n",
       "3           31.0                6.0         31.0  \n",
       "4           16.0                6.0         30.0  \n",
       "\n",
       "[5 rows x 355 columns]"
      ]
     },
     "execution_count": 2,
     "metadata": {},
     "output_type": "execute_result"
    }
   ],
   "source": [
    "import pandas as pd\n",
    "import matplotlib.pyplot as plt\n",
    "import seaborn as sns\n",
    "import os\n",
    "import numpy as np\n",
    "import warnings\n",
    "warnings.filterwarnings('ignore')\n",
    "# use Pandas to read train.csv\n",
    "df = pd.read_csv('C:\\dataset-0510\\okDfPro3_share.csv')\n",
    "from numpy.random import seed\n",
    "seed(1)\n",
    "from tensorflow import set_random_seed\n",
    "set_random_seed(2) \n",
    "\n",
    "\n",
    "from sklearn.utils import shuffle\n",
    "#打亂資料集後重組\n",
    "trainDf=df.iloc[0:-10000,:]\n",
    "testDf=df.iloc[-10000:,:]\n",
    "trainDf = shuffle(trainDf)\n",
    "df=pd.concat( [trainDf, testDf])\n",
    "df.index = range(len(df))\n",
    "df.head(5)"
   ]
  },
  {
   "cell_type": "code",
   "execution_count": 3,
   "metadata": {
    "colab": {},
    "colab_type": "code",
    "id": "kJOf_sDU91PN",
    "scrolled": true
   },
   "outputs": [],
   "source": [
    "from sklearn.preprocessing import StandardScaler\n",
    "def fieldSelection():\n",
    "    selectedDF=df[[\n",
    "        'rich','parking_up','bd_diff','md_diff','dj_rate','floorHigh_rate','land_rich','high_edu',\n",
    "        'NEW_N_50','NEW_N_500','NEW_N_1000','buildYear','txn_year',\n",
    "        'CTDisLat_Idx','CTDisLon_Idx','cityDisLat_Idx','cityDisLon_Idx','cityDis_Idx','CTDis_Idx',\n",
    "        'I_10','I_50','I_100','I_250','I_500','I_1000_Idx','I_5000_Idx','I_10000_Idx',\n",
    "        'II_10','II_50','II_100','II_250','II_500','II_1000_Idx','II_5000_Idx','II_10000_Idx',\n",
    "        'III_10','III_50','III_100','III_250','III_500','III_1000_Idx','III_5000_Idx',\t'III_10000_Idx',\n",
    "        'IV_10','IV_50','IV_100','IV_250','IV_500','IV_1000_Idx','IV_5000_Idx','IV_10000_Idx',\n",
    "        'V_10','V_50','V_100','V_250','V_500','V_1000_Idx','V_5000_Idx','V_10000_Idx',\n",
    "        'VI_10','VI_50','VI_100','VI_250','VI_500','VI_1000_Idx','VI_5000_Idx','VI_10000_Idx',\n",
    "        'VII_10','VII_50','VII_100','VII_250','VII_500','VII_1000_Idx','VII_5000_Idx','VII_10000_Idx',\n",
    "        'VIII_10','VIII_50','VIII_100','VIII_250','VIII_500','VIII_1000_Idx','VIII_5000_Idx','VIII_10000_Idx',\n",
    "        'IX_10','IX_50','IX_100','IX_250','IX_500','IX_1000_Idx','IX_5000_Idx','IX_10000_Idx',\n",
    "        'X_10','X_50','X_100','X_250','X_500','X_1000_Idx','X_5000_Idx','X_10000_Idx',\n",
    "        'XI_10','XI_50','XI_100','XI_250','XI_500','XI_1000_Idx','XI_5000_Idx','XI_10000_Idx',\n",
    "        'XII_10','XII_50','XII_100','XII_250','XII_500','XII_1000_Idx','XII_5000_Idx','XII_10000_Idx',\n",
    "        'XIII_10','XIII_50','XIII_100','XIII_250','XIII_500','XIII_1000_Idx','XIII_5000_Idx','XIII_10000_Idx',\n",
    "        'XIV_10','XIV_50','XIV_100','XIV_250','XIV_500','XIV_1000_Idx','XIV_5000_Idx','XIV_10000_Idx',\n",
    "        'I_MIN_Idx','II_MIN_Idx','III_MIN_Idx','IV_MIN_Idx','V_MIN_Idx','VI_MIN_Idx','VII_MIN_Idx','VIII_MIN_Idx','IX_MIN_Idx',\n",
    "        'X_MIN_Idx','XI_MIN_Idx','XII_MIN_Idx','XIII_MIN_Idx','XIV_MIN_Idx','village_income_median_Int','town_population_Int','town_area_Int','town_population_density_Int',\n",
    "        'doc_rate_Int','master_rate_Int','bachelor_rate_Int','highschool_rate_Int','jobschool_rate_Int','junior_rate_Int','elementary_rate_Int','born_rate_Int','death_rate_Int','marriage_rate_Int',\n",
    "        'divorce_rate_Int','parking_area_Int','parking_price_Int','land_area_Int','building_area_Int','buyEdu_rate']]\n",
    "                 \n",
    "    \n",
    "    \n",
    "    oneHotDF=df[['city','total_floor','txn_floor','building_type' ,'building_use' ,'parking_way','building_material']]\n",
    "    oneHotDF=pd.get_dummies(data=oneHotDF,columns=['city','total_floor','txn_floor','building_type' ,'building_use','parking_way','building_material'])\n",
    "\n",
    "    scale = StandardScaler() #z-scaler物件\n",
    "    train_set_scaled = pd.DataFrame(scale.fit_transform(selectedDF.iloc[:,:]),columns=selectedDF.keys()[:])\n",
    "        \n",
    "    train_set_scaled[oneHotDF.keys()]=oneHotDF[oneHotDF.keys()]\n",
    "    train_set_scaled[['df15f12','df15f1','df15f2','df04','istop11','istop10','isf5','isf6','is15']]=df[['df15f12','df15f1','df15f2','df04','istop11','istop10','isf5','isf6','is15']]\n",
    "    return train_set_scaled\n",
    "\n",
    "train_set_scaled=fieldSelection()"
   ]
  },
  {
   "cell_type": "code",
   "execution_count": 4,
   "metadata": {
    "colab": {
     "base_uri": "https://localhost:8080/",
     "height": 34
    },
    "colab_type": "code",
    "executionInfo": {
     "elapsed": 32113,
     "status": "ok",
     "timestamp": 1563365230375,
     "user": {
      "displayName": "Yu Chun Lin",
      "photoUrl": "https://lh4.googleusercontent.com/-QkJGFXovVfg/AAAAAAAAAAI/AAAAAAAAAB8/0NUdCGR_qdc/s64/photo.jpg",
      "userId": "05915152332630955963"
     },
     "user_tz": -480
    },
    "id": "Z4WDyBu591PQ",
    "outputId": "c550a439-1fe0-4034-e01c-c57ec1289632"
   },
   "outputs": [
    {
     "data": {
      "text/plain": [
       "(69333, 355)"
      ]
     },
     "execution_count": 4,
     "metadata": {},
     "output_type": "execute_result"
    }
   ],
   "source": [
    "df.shape"
   ]
  },
  {
   "cell_type": "code",
   "execution_count": 5,
   "metadata": {
    "colab": {
     "base_uri": "https://localhost:8080/",
     "height": 34
    },
    "colab_type": "code",
    "executionInfo": {
     "elapsed": 32104,
     "status": "ok",
     "timestamp": 1563365230380,
     "user": {
      "displayName": "Yu Chun Lin",
      "photoUrl": "https://lh4.googleusercontent.com/-QkJGFXovVfg/AAAAAAAAAAI/AAAAAAAAAB8/0NUdCGR_qdc/s64/photo.jpg",
      "userId": "05915152332630955963"
     },
     "user_tz": -480
    },
    "id": "73-XGLn891PT",
    "outputId": "7109a38a-496c-4fab-c2e9-5544670680eb"
   },
   "outputs": [
    {
     "data": {
      "text/plain": [
       "(69333, 270)"
      ]
     },
     "execution_count": 5,
     "metadata": {},
     "output_type": "execute_result"
    }
   ],
   "source": [
    "train_set_scaled.shape"
   ]
  },
  {
   "cell_type": "code",
   "execution_count": 6,
   "metadata": {
    "colab": {
     "base_uri": "https://localhost:8080/",
     "height": 300
    },
    "colab_type": "code",
    "executionInfo": {
     "elapsed": 32391,
     "status": "ok",
     "timestamp": 1563365230675,
     "user": {
      "displayName": "Yu Chun Lin",
      "photoUrl": "https://lh4.googleusercontent.com/-QkJGFXovVfg/AAAAAAAAAAI/AAAAAAAAAB8/0NUdCGR_qdc/s64/photo.jpg",
      "userId": "05915152332630955963"
     },
     "user_tz": -480
    },
    "id": "1334N_xf91PW",
    "outputId": "efbc9f25-4144-41ff-9a83-3d2ec291b4dc"
   },
   "outputs": [
    {
     "data": {
      "text/plain": [
       "<matplotlib.axes._subplots.AxesSubplot at 0x247e1e86048>"
      ]
     },
     "execution_count": 6,
     "metadata": {},
     "output_type": "execute_result"
    },
    {
     "data": {
      "image/png": "[encoded data removed]",
      "text/plain": [
       "<Figure size 432x288 with 1 Axes>"
      ]
     },
     "metadata": {
      "needs_background": "light"
     },
     "output_type": "display_data"
    }
   ],
   "source": [
    "sns.distplot(df.avg)"
   ]
  },
  {
   "cell_type": "code",
   "execution_count": 7,
   "metadata": {
    "colab": {},
    "colab_type": "code",
    "id": "jpl4m0FH91PZ"
   },
   "outputs": [],
   "source": [
    "df['avg_log']=np.log1p(df['avg'])"
   ]
  },
  {
   "cell_type": "code",
   "execution_count": 8,
   "metadata": {
    "colab": {
     "base_uri": "https://localhost:8080/",
     "height": 301
    },
    "colab_type": "code",
    "executionInfo": {
     "elapsed": 32893,
     "status": "ok",
     "timestamp": 1563365231199,
     "user": {
      "displayName": "Yu Chun Lin",
      "photoUrl": "https://lh4.googleusercontent.com/-QkJGFXovVfg/AAAAAAAAAAI/AAAAAAAAAB8/0NUdCGR_qdc/s64/photo.jpg",
      "userId": "05915152332630955963"
     },
     "user_tz": -480
    },
    "id": "yi4Eqgdo91Pb",
    "outputId": "cc456d2c-93a2-4fa8-ae78-6be30d20ca84"
   },
   "outputs": [
    {
     "data": {
      "text/plain": [
       "<matplotlib.axes._subplots.AxesSubplot at 0x24787e28780>"
      ]
     },
     "execution_count": 8,
     "metadata": {},
     "output_type": "execute_result"
    },
    {
     "data": {
      "image/png": "[encoded data removed]",
      "text/plain": [
       "<Figure size 432x288 with 1 Axes>"
      ]
     },
     "metadata": {
      "needs_background": "light"
     },
     "output_type": "display_data"
    }
   ],
   "source": [
    "sns.distplot(df.avg_log)"
   ]
  },
  {
   "cell_type": "code",
   "execution_count": 9,
   "metadata": {
    "colab": {},
    "colab_type": "code",
    "id": "SXWy6ZxT91Pf"
   },
   "outputs": [],
   "source": [
    "#訓練集為x1,y1     #測試集為tx1,ty1  (ty1目前都是0)\n",
    "x1=train_set_scaled.iloc[0:-10000,:]\n",
    "y1=df.iloc[0:-10000,-1]\n",
    "\n",
    "tx1=train_set_scaled.iloc[-10000:,:]\n",
    "ty1=df.iloc[-10000:,-1]"
   ]
  },
  {
   "cell_type": "code",
   "execution_count": 10,
   "metadata": {
    "colab": {
     "base_uri": "https://localhost:8080/",
     "height": 34
    },
    "colab_type": "code",
    "executionInfo": {
     "elapsed": 32895,
     "status": "ok",
     "timestamp": 1563365231220,
     "user": {
      "displayName": "Yu Chun Lin",
      "photoUrl": "https://lh4.googleusercontent.com/-QkJGFXovVfg/AAAAAAAAAAI/AAAAAAAAAB8/0NUdCGR_qdc/s64/photo.jpg",
      "userId": "05915152332630955963"
     },
     "user_tz": -480
    },
    "id": "6SRauny591Pj",
    "outputId": "971b072e-f7b7-4f7c-8de2-62d43d653e72"
   },
   "outputs": [
    {
     "data": {
      "text/plain": [
       "(59333, 270)"
      ]
     },
     "execution_count": 10,
     "metadata": {},
     "output_type": "execute_result"
    }
   ],
   "source": [
    "x1.shape"
   ]
  },
  {
   "cell_type": "code",
   "execution_count": 11,
   "metadata": {
    "colab": {
     "base_uri": "https://localhost:8080/",
     "height": 34
    },
    "colab_type": "code",
    "executionInfo": {
     "elapsed": 32886,
     "status": "ok",
     "timestamp": 1563365231222,
     "user": {
      "displayName": "Yu Chun Lin",
      "photoUrl": "https://lh4.googleusercontent.com/-QkJGFXovVfg/AAAAAAAAAAI/AAAAAAAAAB8/0NUdCGR_qdc/s64/photo.jpg",
      "userId": "05915152332630955963"
     },
     "user_tz": -480
    },
    "id": "DR9bjIsB91Pm",
    "outputId": "cf12250b-2324-4c3f-86c1-735b47c297b5"
   },
   "outputs": [
    {
     "data": {
      "text/plain": [
       "(10000, 270)"
      ]
     },
     "execution_count": 11,
     "metadata": {},
     "output_type": "execute_result"
    }
   ],
   "source": [
    "tx1.shape"
   ]
  },
  {
   "cell_type": "code",
   "execution_count": 12,
   "metadata": {
    "colab": {
     "base_uri": "https://localhost:8080/",
     "height": 301
    },
    "colab_type": "code",
    "executionInfo": {
     "elapsed": 33273,
     "status": "ok",
     "timestamp": 1563365231621,
     "user": {
      "displayName": "Yu Chun Lin",
      "photoUrl": "https://lh4.googleusercontent.com/-QkJGFXovVfg/AAAAAAAAAAI/AAAAAAAAAB8/0NUdCGR_qdc/s64/photo.jpg",
      "userId": "05915152332630955963"
     },
     "user_tz": -480
    },
    "id": "MfH77EYY91Pq",
    "outputId": "e2eec11f-9cf3-4225-d0e7-d6ef1f0095b8"
   },
   "outputs": [
    {
     "data": {
      "text/plain": [
       "<matplotlib.axes._subplots.AxesSubplot at 0x24787f29c88>"
      ]
     },
     "execution_count": 12,
     "metadata": {},
     "output_type": "execute_result"
    },
    {
     "data": {
      "image/png": "[encoded data removed]",
      "text/plain": [
       "<Figure size 432x288 with 1 Axes>"
      ]
     },
     "metadata": {
      "needs_background": "light"
     },
     "output_type": "display_data"
    }
   ],
   "source": [
    "sns.distplot(y1)"
   ]
  },
  {
   "cell_type": "markdown",
   "metadata": {
    "colab_type": "text",
    "id": "s1nhYYT_91Pu"
   },
   "source": [
    "## 模型 Model  "
   ]
  },
  {
   "cell_type": "code",
   "execution_count": 13,
   "metadata": {
    "colab": {},
    "colab_type": "code",
    "id": "DpQnRXuM91Pu"
   },
   "outputs": [
    {
     "name": "stderr",
     "output_type": "stream",
     "text": [
      "C:\\anaconda3\\lib\\site-packages\\sklearn\\externals\\six.py:31: DeprecationWarning: The module is deprecated in version 0.21 and will be removed in version 0.23 since we've dropped support for Python 2.7. Please rely on the official version of six (https://pypi.org/project/six/).\n",
      "  \"(https://pypi.org/project/six/).\", DeprecationWarning)\n"
     ]
    }
   ],
   "source": [
    "from sklearn.model_selection import train_test_split,GridSearchCV\n",
    "from sklearn.linear_model import LinearRegression, Ridge, RidgeCV,Lasso,ElasticNet\n",
    "from sklearn.ensemble import RandomForestRegressor\n",
    "#from sklearn.ensemble import AdaBoostRegressor\n",
    "#from sklearn.ensemble import GradientBoostingRegressor\n",
    "from sklearn.ensemble import BaggingRegressor\n",
    "#from sklearn.tree import ExtraTreeRegressor\n",
    "from xgboost import XGBRegressor\n",
    "#from xgboost import XGBClassifier\n",
    "from sklearn.model_selection import cross_val_score\n",
    "from sklearn import metrics\n",
    "\n",
    "#from sklearn.linear_model import Ridge\n",
    "#from sklearn.linear_model import Lasso\n",
    "#from sklearn.linear_model import ElasticNet\n",
    "import lightgbm as lgb\n",
    " \n",
    "#from sklearn.svm import SVR\n",
    "#from sklearn.pipeline import make_pipeline\n",
    "#from sklearn.preprocessing import RobustScaler\n",
    "from sklearn.model_selection import KFold,GridSearchCV\n",
    "\n",
    "from sklearn.metrics import accuracy_score\n",
    "#from sklearn.neighbors import KNeighborsClassifier \n",
    "#from sklearn.ensemble import RandomForestClassifier \n",
    "from vecstack import stacking\n",
    "#from sklearn.ensemble import GradientBoostingRegressor"
   ]
  },
  {
   "cell_type": "markdown",
   "metadata": {},
   "source": [
    "# Stacking的框架中有兩層：\n",
    "* 第一層由幾種base model組成(1st level model)\n",
    "* 第二層為一個meta model(2nd level model )"
   ]
  },
  {
   "cell_type": "markdown",
   "metadata": {
    "colab_type": "text",
    "id": "zvHqh0tB91Px"
   },
   "source": [
    "## 第一層"
   ]
  },
  {
   "cell_type": "code",
   "execution_count": 14,
   "metadata": {
    "colab": {},
    "colab_type": "code",
    "id": "uYvBiYvQ91Px"
   },
   "outputs": [],
   "source": [
    "models = [\n",
    "    \n",
    "    lgb.LGBMRegressor(objective='regression',learning_rate=0.1,num_leaves=1500),    #1500->5640\n",
    "    BaggingRegressor(n_estimators=200),                                             #200->5314\n",
    "    RandomForestRegressor(max_depth=25,min_samples_leaf=2),                        #30,1->4963  25,2->5085\n",
    "    XGBRegressor(max_depth=20)                                                      #20->5595\n",
    "    \n",
    "]\n",
    "   "
   ]
  },
  {
   "cell_type": "code",
   "execution_count": 15,
   "metadata": {
    "colab": {},
    "colab_type": "code",
    "id": "SYcOG5K291P0"
   },
   "outputs": [],
   "source": [
    "#訓練集為x1,y1     #測試集為tx1,ty1  (ty1目前都是0)\n",
    "X_train = x1\n",
    "y_train = y1\n",
    "X_test = tx1\n",
    "y_test = ty1\n",
    "#X_train, X_test, y_train, y_test = train_test_split(X, y, test_size=0.2, random_state=0)"
   ]
  },
  {
   "cell_type": "markdown",
   "metadata": {
    "colab_type": "text",
    "id": "b6h75PjK91P3"
   },
   "source": [
    "# 計分"
   ]
  },
  {
   "cell_type": "code",
   "execution_count": 16,
   "metadata": {
    "colab": {},
    "colab_type": "code",
    "id": "pA6ftPgn91P4"
   },
   "outputs": [],
   "source": [
    "from math import sqrt\n",
    "from sklearn.metrics import r2_score,mean_squared_error,mean_absolute_error\n",
    "             \n",
    "def mape(targets,predictions): \n",
    "    n=len(targets)\n",
    "    #n=targets.shape[0]\n",
    "    #return str(round(sum(np.abs((predictions-targets)/targets))/n,2))\n",
    "    return round(sum(np.abs((predictions-targets)/targets))/n,2)\n",
    "\n",
    "def hit_rate(targets,predictions):\n",
    "    n=len(targets)\n",
    "    diff=np.abs((predictions - targets)/targets)\n",
    "    z=round(sum(np.where(diff>0.1,0,1))/n,5)\n",
    "    #return str(z) \n",
    "    return z \n",
    "\n",
    "\n"
   ]
  },
  {
   "cell_type": "code",
   "execution_count": 17,
   "metadata": {
    "colab": {},
    "colab_type": "code",
    "id": "KDN_WGJD91P7"
   },
   "outputs": [],
   "source": [
    "from sklearn.metrics import mean_absolute_error,mean_squared_error"
   ]
  },
  {
   "cell_type": "code",
   "execution_count": 18,
   "metadata": {
    "colab": {
     "base_uri": "https://localhost:8080/",
     "height": 857
    },
    "colab_type": "code",
    "executionInfo": {
     "elapsed": 461913,
     "status": "ok",
     "timestamp": 1563370390861,
     "user": {
      "displayName": "Yu Chun Lin",
      "photoUrl": "https://lh4.googleusercontent.com/-QkJGFXovVfg/AAAAAAAAAAI/AAAAAAAAAB8/0NUdCGR_qdc/s64/photo.jpg",
      "userId": "05915152332630955963"
     },
     "user_tz": -480
    },
    "id": "JilYOGqW91P_",
    "outputId": "09d7cd53-23a0-455c-f2e8-22a4f2fb8339"
   },
   "outputs": [
    {
     "name": "stdout",
     "output_type": "stream",
     "text": [
      "task:         [regression]\n",
      "metric:       [mean_absolute_error]\n",
      "mode:         [oof_pred_bag]\n",
      "n_models:     [4]\n",
      "\n",
      "model  0:     [LGBMRegressor]\n",
      "    fold  0:  [0.13486593]\n",
      "    fold  1:  [0.13548697]\n",
      "    fold  2:  [0.13263605]\n",
      "    fold  3:  [0.13456478]\n",
      "    fold  4:  [0.13609685]\n",
      "    ----\n",
      "    MEAN:     [0.13473012] + [0.00117232]\n",
      "    FULL:     [0.13473009]\n",
      "\n",
      "model  1:     [BaggingRegressor]\n",
      "    fold  0:  [0.14761970]\n",
      "    fold  1:  [0.14828639]\n",
      "    fold  2:  [0.14458906]\n",
      "    fold  3:  [0.14672118]\n",
      "    fold  4:  [0.14847974]\n",
      "    ----\n",
      "    MEAN:     [0.14713921] + [0.00141576]\n",
      "    FULL:     [0.14713920]\n",
      "\n",
      "model  2:     [RandomForestRegressor]\n",
      "    fold  0:  [0.16023032]\n",
      "    fold  1:  [0.16085481]\n",
      "    fold  2:  [0.15671929]\n",
      "    fold  3:  [0.15878825]\n",
      "    fold  4:  [0.15957397]\n",
      "    ----\n",
      "    MEAN:     [0.15923333] + [0.00143232]\n",
      "    FULL:     [0.15923333]\n",
      "\n",
      "model  3:     [XGBRegressor]\n",
      "    fold  0:  [0.13682639]\n",
      "    fold  1:  [0.13684908]\n",
      "    fold  2:  [0.13324393]\n",
      "    fold  3:  [0.13561751]\n",
      "    fold  4:  [0.13793124]\n",
      "    ----\n",
      "    MEAN:     [0.13609363] + [0.00160200]\n",
      "    FULL:     [0.13609361]\n",
      "\n"
     ]
    }
   ],
   "source": [
    "S_train, S_test = stacking(models, X_train, y_train, X_test, \n",
    "    regression = True, metric =mean_absolute_error , \n",
    "                           n_folds=5,verbose=2)"
   ]
  },
  {
   "cell_type": "code",
   "execution_count": 44,
   "metadata": {},
   "outputs": [],
   "source": [
    "S_pred=pd.DataFrame(S_train)"
   ]
  },
  {
   "cell_type": "code",
   "execution_count": 45,
   "metadata": {},
   "outputs": [
    {
     "data": {
      "text/html": [
       "<div>\n",
       "<style scoped>\n",
       "    .dataframe tbody tr th:only-of-type {\n",
       "        vertical-align: middle;\n",
       "    }\n",
       "\n",
       "    .dataframe tbody tr th {\n",
       "        vertical-align: top;\n",
       "    }\n",
       "\n",
       "    .dataframe thead th {\n",
       "        text-align: right;\n",
       "    }\n",
       "</style>\n",
       "<table border=\"1\" class=\"dataframe\">\n",
       "  <thead>\n",
       "    <tr style=\"text-align: right;\">\n",
       "      <th></th>\n",
       "      <th>0</th>\n",
       "      <th>1</th>\n",
       "      <th>2</th>\n",
       "      <th>3</th>\n",
       "    </tr>\n",
       "  </thead>\n",
       "  <tbody>\n",
       "    <tr>\n",
       "      <th>0</th>\n",
       "      <td>12.179720</td>\n",
       "      <td>12.388215</td>\n",
       "      <td>12.445461</td>\n",
       "      <td>12.217583</td>\n",
       "    </tr>\n",
       "    <tr>\n",
       "      <th>1</th>\n",
       "      <td>15.117413</td>\n",
       "      <td>15.039270</td>\n",
       "      <td>15.110292</td>\n",
       "      <td>15.206760</td>\n",
       "    </tr>\n",
       "    <tr>\n",
       "      <th>2</th>\n",
       "      <td>13.330893</td>\n",
       "      <td>13.207912</td>\n",
       "      <td>13.027001</td>\n",
       "      <td>13.262648</td>\n",
       "    </tr>\n",
       "    <tr>\n",
       "      <th>3</th>\n",
       "      <td>12.804901</td>\n",
       "      <td>12.870042</td>\n",
       "      <td>12.651419</td>\n",
       "      <td>12.815362</td>\n",
       "    </tr>\n",
       "    <tr>\n",
       "      <th>4</th>\n",
       "      <td>12.451844</td>\n",
       "      <td>12.416181</td>\n",
       "      <td>12.349843</td>\n",
       "      <td>12.489174</td>\n",
       "    </tr>\n",
       "  </tbody>\n",
       "</table>\n",
       "</div>"
      ],
      "text/plain": [
       "           0          1          2          3\n",
       "0  12.179720  12.388215  12.445461  12.217583\n",
       "1  15.117413  15.039270  15.110292  15.206760\n",
       "2  13.330893  13.207912  13.027001  13.262648\n",
       "3  12.804901  12.870042  12.651419  12.815362\n",
       "4  12.451844  12.416181  12.349843  12.489174"
      ]
     },
     "execution_count": 45,
     "metadata": {},
     "output_type": "execute_result"
    }
   ],
   "source": [
    "S_pred.head()"
   ]
  },
  {
   "cell_type": "code",
   "execution_count": 46,
   "metadata": {},
   "outputs": [
    {
     "name": "stdout",
     "output_type": "stream",
     "text": [
      "MAE: [0.13625004]\n"
     ]
    }
   ],
   "source": [
    "S_pred=np.mean(S_pred, axis=1) #平均法\n",
    "print('MAE: [%.8f]' % mean_absolute_error(y_train, S_pred))"
   ]
  },
  {
   "cell_type": "code",
   "execution_count": 47,
   "metadata": {},
   "outputs": [
    {
     "data": {
      "text/plain": [
       "0    12.307745\n",
       "1    15.118434\n",
       "2    13.207113\n",
       "3    12.785431\n",
       "4    12.426761\n",
       "dtype: float64"
      ]
     },
     "execution_count": 47,
     "metadata": {},
     "output_type": "execute_result"
    }
   ],
   "source": [
    "S_pred.head()"
   ]
  },
  {
   "cell_type": "code",
   "execution_count": 48,
   "metadata": {
    "colab": {
     "base_uri": "https://localhost:8080/",
     "height": 84
    },
    "colab_type": "code",
    "executionInfo": {
     "elapsed": 43,
     "status": "ok",
     "timestamp": 1563370390863,
     "user": {
      "displayName": "Yu Chun Lin",
      "photoUrl": "https://lh4.googleusercontent.com/-QkJGFXovVfg/AAAAAAAAAAI/AAAAAAAAAB8/0NUdCGR_qdc/s64/photo.jpg",
      "userId": "05915152332630955963"
     },
     "user_tz": -480
    },
    "id": "zug1P20v91QC",
    "outputId": "a38bd793-1a6e-472d-c1e6-b807848b1a86"
   },
   "outputs": [
    {
     "name": "stdout",
     "output_type": "stream",
     "text": [
      "MAPE: [0.01000000]\n",
      "Hit_Rate: [0.53523000]\n",
      "競賽評分= 5353.29\n"
     ]
    }
   ],
   "source": [
    "M= float(mape(y_train,S_pred))\n",
    "#H= float(hit_rate(y_train,S_pred)) \n",
    "y_train_log=np.expm1(y_train)\n",
    "S_pred_log=np.expm1(S_pred)\n",
    "H= float(hit_rate(y_train_log,S_pred_log)) \n",
    "print('MAPE: [%.8f]' % M)\n",
    "print('Hit_Rate: [%.8f]' % H)\n",
    "\n",
    "print ('競賽評分=' ,(H*10**4)+(1-M))"
   ]
  },
  {
   "cell_type": "code",
   "execution_count": 43,
   "metadata": {
    "colab": {
     "base_uri": "https://localhost:8080/",
     "height": 134
    },
    "colab_type": "code",
    "executionInfo": {
     "elapsed": 726,
     "status": "ok",
     "timestamp": 1563371995520,
     "user": {
      "displayName": "Yu Chun Lin",
      "photoUrl": "https://lh4.googleusercontent.com/-QkJGFXovVfg/AAAAAAAAAAI/AAAAAAAAAB8/0NUdCGR_qdc/s64/photo.jpg",
      "userId": "05915152332630955963"
     },
     "user_tz": -480
    },
    "id": "tOY9l4Jzk8q_",
    "outputId": "66c3b5e7-9614-409f-d0a8-7326a0c83046"
   },
   "outputs": [
    {
     "data": {
      "text/plain": [
       "array([[12.17971982, 12.38821521, 12.44546105, 12.2175827 ],\n",
       "       [15.11741337, 15.03926972, 15.11029161, 15.20676041],\n",
       "       [13.33089268, 13.20791189, 13.02700052, 13.26264763],\n",
       "       ...,\n",
       "       [13.40719021, 13.50092388, 13.58360702, 13.17732048],\n",
       "       [14.03954048, 14.0097689 , 13.97891359, 13.96172714],\n",
       "       [14.36204409, 14.11698572, 14.12943191, 14.34545135]])"
      ]
     },
     "execution_count": 43,
     "metadata": {},
     "output_type": "execute_result"
    }
   ],
   "source": [
    "S_train"
   ]
  },
  {
   "cell_type": "code",
   "execution_count": 21,
   "metadata": {
    "colab": {},
    "colab_type": "code",
    "id": "l-r-neTmYCLA"
   },
   "outputs": [],
   "source": [
    "#設計DL所要看的特徵\n",
    "def fieldSelectionDL():\n",
    "    selectedDF=df[[\n",
    "        'rich','parking_up','bd_diff','md_diff','dj_rate','floorHigh_rate','land_rich','high_edu',\n",
    "        'NEW_N_50','NEW_N_500','NEW_N_1000','buildYear','txn_year',\n",
    "        'CTDisLat_Idx','CTDisLon_Idx','cityDisLat_Idx','cityDisLon_Idx','cityDis_Idx','CTDis_Idx',\n",
    "        'I_10','I_50','I_100','I_250','I_500','I_1000_Idx','I_5000_Idx','I_10000_Idx',\n",
    "        'II_10','II_50','II_100','II_250','II_500','II_1000_Idx','II_5000_Idx','II_10000_Idx',\n",
    "        'III_10','III_50','III_100','III_250','III_500','III_1000_Idx','III_5000_Idx',\t'III_10000_Idx',\n",
    "        'IV_10','IV_50','IV_100','IV_250','IV_500','IV_1000_Idx','IV_5000_Idx','IV_10000_Idx',\n",
    "        'V_10','V_50','V_100','V_250','V_500','V_1000_Idx','V_5000_Idx','V_10000_Idx',\n",
    "        'VI_10','VI_50','VI_100','VI_250','VI_500','VI_1000_Idx','VI_5000_Idx','VI_10000_Idx',\n",
    "        'VII_10','VII_50','VII_100','VII_250','VII_500','VII_1000_Idx','VII_5000_Idx','VII_10000_Idx',\n",
    "        'VIII_10','VIII_50','VIII_100','VIII_250','VIII_500','VIII_1000_Idx','VIII_5000_Idx','VIII_10000_Idx',\n",
    "        'IX_10','IX_50','IX_100','IX_250','IX_500','IX_1000_Idx','IX_5000_Idx','IX_10000_Idx',\n",
    "        'X_10','X_50','X_100','X_250','X_500','X_1000_Idx','X_5000_Idx','X_10000_Idx',\n",
    "        'XI_10','XI_50','XI_100','XI_250','XI_500','XI_1000_Idx','XI_5000_Idx','XI_10000_Idx',\n",
    "        'XII_10','XII_50','XII_100','XII_250','XII_500','XII_1000_Idx','XII_5000_Idx','XII_10000_Idx',\n",
    "        'XIII_10','XIII_50','XIII_100','XIII_250','XIII_500','XIII_1000_Idx','XIII_5000_Idx','XIII_10000_Idx',\n",
    "        'XIV_10','XIV_50','XIV_100','XIV_250','XIV_500','XIV_1000_Idx','XIV_5000_Idx','XIV_10000_Idx',\n",
    "        'I_MIN_Idx','II_MIN_Idx','III_MIN_Idx','IV_MIN_Idx','V_MIN_Idx','VI_MIN_Idx','VII_MIN_Idx','VIII_MIN_Idx','IX_MIN_Idx',\n",
    "        'X_MIN_Idx','XI_MIN_Idx','XII_MIN_Idx','XIII_MIN_Idx','XIV_MIN_Idx','village_income_median_Int','town_population_Int','town_area_Int','town_population_density_Int',\n",
    "        'doc_rate_Int','master_rate_Int','bachelor_rate_Int','highschool_rate_Int','jobschool_rate_Int','junior_rate_Int','elementary_rate_Int','born_rate_Int','death_rate_Int','marriage_rate_Int',\n",
    "        'divorce_rate_Int','parking_area_Int','parking_price_Int','land_area_Int','building_area_Int','buyEdu_rate']]\n",
    "                 \n",
    "    \n",
    "    \n",
    "    oneHotDF=df[['city','lat','lon','total_floor','txn_floor','building_type' ,'building_use' ,'parking_way','building_material']]\n",
    "    oneHotDF=pd.get_dummies(data=oneHotDF,columns=['city','lat','lon','total_floor','txn_floor','building_type' ,'building_use','parking_way','building_material'])\n",
    "\n",
    "    scale = StandardScaler() #z-scaler物件\n",
    "    train_set_scaled = pd.DataFrame(scale.fit_transform(selectedDF.iloc[:,:]),columns=selectedDF.keys()[:])\n",
    "        \n",
    "    train_set_scaled[oneHotDF.keys()]=oneHotDF[oneHotDF.keys()]\n",
    "    train_set_scaled[['df15f12','df15f1','df15f2','df04','istop11','istop10','isf5','isf6','is15']]=df[['df15f12','df15f1','df15f2','df04','istop11','istop10','isf5','isf6','is15']]\n",
    "    return train_set_scaled\n",
    "\n",
    "train_set_scaled=fieldSelectionDL()"
   ]
  },
  {
   "cell_type": "code",
   "execution_count": 25,
   "metadata": {
    "colab": {
     "base_uri": "https://localhost:8080/",
     "height": 1000
    },
    "colab_type": "code",
    "executionInfo": {
     "elapsed": 209397,
     "status": "ok",
     "timestamp": 1563374879795,
     "user": {
      "displayName": "Yu Chun Lin",
      "photoUrl": "https://lh4.googleusercontent.com/-QkJGFXovVfg/AAAAAAAAAAI/AAAAAAAAAB8/0NUdCGR_qdc/s64/photo.jpg",
      "userId": "05915152332630955963"
     },
     "user_tz": -480
    },
    "id": "zZHjHs0i4Rn3",
    "outputId": "be5ddf38-d4d7-4561-deab-fc7463db124c"
   },
   "outputs": [
    {
     "name": "stdout",
     "output_type": "stream",
     "text": [
      "Train on 53399 samples, validate on 5934 samples\n",
      "Epoch 1/100\n",
      "53399/53399 [==============================] - 3s 54us/step - loss: 7.4282 - mean_absolute_percentage_error: 7.4282 - mean_absolute_error: 1.0013 - val_loss: 2.4987 - val_mean_absolute_percentage_error: 2.4987 - val_mean_absolute_error: 0.3373\n",
      "\n",
      "Epoch 00001: val_loss improved from inf to 2.49872, saving model to tmp/bestWeights.hdf5\n",
      "Epoch 2/100\n",
      "53399/53399 [==============================] - 3s 48us/step - loss: 2.2626 - mean_absolute_percentage_error: 2.2626 - mean_absolute_error: 0.3040 - val_loss: 1.9843 - val_mean_absolute_percentage_error: 1.9843 - val_mean_absolute_error: 0.2660\n",
      "\n",
      "Epoch 00002: val_loss improved from 2.49872 to 1.98433, saving model to tmp/bestWeights.hdf5\n",
      "Epoch 3/100\n",
      "53399/53399 [==============================] - 3s 48us/step - loss: 2.0138 - mean_absolute_percentage_error: 2.0138 - mean_absolute_error: 0.2703 - val_loss: 2.0025 - val_mean_absolute_percentage_error: 2.0025 - val_mean_absolute_error: 0.2693\n",
      "\n",
      "Epoch 00003: val_loss did not improve from 1.98433\n",
      "Epoch 4/100\n",
      "53399/53399 [==============================] - 3s 48us/step - loss: 1.8801 - mean_absolute_percentage_error: 1.8801 - mean_absolute_error: 0.2519 - val_loss: 2.1375 - val_mean_absolute_percentage_error: 2.1375 - val_mean_absolute_error: 0.2897\n",
      "\n",
      "Epoch 00004: val_loss did not improve from 1.98433\n",
      "Epoch 5/100\n",
      "53399/53399 [==============================] - 3s 48us/step - loss: 1.7684 - mean_absolute_percentage_error: 1.7684 - mean_absolute_error: 0.2369 - val_loss: 1.8833 - val_mean_absolute_percentage_error: 1.8833 - val_mean_absolute_error: 0.2540\n",
      "\n",
      "Epoch 00005: val_loss improved from 1.98433 to 1.88332, saving model to tmp/bestWeights.hdf5\n",
      "Epoch 6/100\n",
      "53399/53399 [==============================] - 3s 48us/step - loss: 1.6918 - mean_absolute_percentage_error: 1.6918 - mean_absolute_error: 0.2266 - val_loss: 1.7666 - val_mean_absolute_percentage_error: 1.7666 - val_mean_absolute_error: 0.2358\n",
      "\n",
      "Epoch 00006: val_loss improved from 1.88332 to 1.76661, saving model to tmp/bestWeights.hdf5\n",
      "Epoch 7/100\n",
      "53399/53399 [==============================] - 3s 49us/step - loss: 1.6264 - mean_absolute_percentage_error: 1.6264 - mean_absolute_error: 0.2177 - val_loss: 1.7408 - val_mean_absolute_percentage_error: 1.7408 - val_mean_absolute_error: 0.2338\n",
      "\n",
      "Epoch 00007: val_loss improved from 1.76661 to 1.74082, saving model to tmp/bestWeights.hdf5\n",
      "Epoch 8/100\n",
      "53399/53399 [==============================] - 3s 49us/step - loss: 1.6046 - mean_absolute_percentage_error: 1.6046 - mean_absolute_error: 0.2149 - val_loss: 1.5605 - val_mean_absolute_percentage_error: 1.5605 - val_mean_absolute_error: 0.2086\n",
      "\n",
      "Epoch 00008: val_loss improved from 1.74082 to 1.56049, saving model to tmp/bestWeights.hdf5\n",
      "Epoch 9/100\n",
      "53399/53399 [==============================] - 3s 49us/step - loss: 1.5747 - mean_absolute_percentage_error: 1.5747 - mean_absolute_error: 0.2107 - val_loss: 1.6526 - val_mean_absolute_percentage_error: 1.6526 - val_mean_absolute_error: 0.2196\n",
      "\n",
      "Epoch 00009: val_loss did not improve from 1.56049\n",
      "Epoch 10/100\n",
      "53399/53399 [==============================] - 3s 49us/step - loss: 1.5397 - mean_absolute_percentage_error: 1.5397 - mean_absolute_error: 0.2059 - val_loss: 1.6022 - val_mean_absolute_percentage_error: 1.6022 - val_mean_absolute_error: 0.2151\n",
      "\n",
      "Epoch 00010: val_loss did not improve from 1.56049\n",
      "Epoch 11/100\n",
      "53399/53399 [==============================] - 3s 48us/step - loss: 1.5214 - mean_absolute_percentage_error: 1.5214 - mean_absolute_error: 0.2035 - val_loss: 1.5643 - val_mean_absolute_percentage_error: 1.5643 - val_mean_absolute_error: 0.2098\n",
      "\n",
      "Epoch 00011: val_loss did not improve from 1.56049\n",
      "Epoch 12/100\n",
      "53399/53399 [==============================] - 3s 48us/step - loss: 1.5024 - mean_absolute_percentage_error: 1.5024 - mean_absolute_error: 0.2009 - val_loss: 1.5312 - val_mean_absolute_percentage_error: 1.5312 - val_mean_absolute_error: 0.2044\n",
      "\n",
      "Epoch 00012: val_loss improved from 1.56049 to 1.53116, saving model to tmp/bestWeights.hdf5\n",
      "Epoch 13/100\n",
      "53399/53399 [==============================] - 3s 48us/step - loss: 1.5130 - mean_absolute_percentage_error: 1.5130 - mean_absolute_error: 0.2025 - val_loss: 1.5474 - val_mean_absolute_percentage_error: 1.5474 - val_mean_absolute_error: 0.2061\n",
      "\n",
      "Epoch 00013: val_loss did not improve from 1.53116\n",
      "Epoch 14/100\n",
      "53399/53399 [==============================] - 3s 48us/step - loss: 1.4993 - mean_absolute_percentage_error: 1.4993 - mean_absolute_error: 0.2005 - val_loss: 1.6815 - val_mean_absolute_percentage_error: 1.6815 - val_mean_absolute_error: 0.2251\n",
      "\n",
      "Epoch 00014: val_loss did not improve from 1.53116\n",
      "Epoch 15/100\n",
      "53399/53399 [==============================] - 3s 47us/step - loss: 1.4713 - mean_absolute_percentage_error: 1.4713 - mean_absolute_error: 0.1968 - val_loss: 1.5537 - val_mean_absolute_percentage_error: 1.5537 - val_mean_absolute_error: 0.2075\n",
      "\n",
      "Epoch 00015: val_loss did not improve from 1.53116\n",
      "Epoch 16/100\n",
      "53399/53399 [==============================] - 3s 47us/step - loss: 1.4639 - mean_absolute_percentage_error: 1.4639 - mean_absolute_error: 0.1958 - val_loss: 1.4416 - val_mean_absolute_percentage_error: 1.4416 - val_mean_absolute_error: 0.1931\n",
      "\n",
      "Epoch 00016: val_loss improved from 1.53116 to 1.44163, saving model to tmp/bestWeights.hdf5\n",
      "Epoch 17/100\n",
      "53399/53399 [==============================] - 3s 49us/step - loss: 1.4637 - mean_absolute_percentage_error: 1.4637 - mean_absolute_error: 0.1957 - val_loss: 1.5335 - val_mean_absolute_percentage_error: 1.5335 - val_mean_absolute_error: 0.2059\n",
      "\n",
      "Epoch 00017: val_loss did not improve from 1.44163\n",
      "Epoch 18/100\n",
      "53399/53399 [==============================] - 3s 48us/step - loss: 1.4362 - mean_absolute_percentage_error: 1.4362 - mean_absolute_error: 0.1920 - val_loss: 1.5361 - val_mean_absolute_percentage_error: 1.5361 - val_mean_absolute_error: 0.2055\n",
      "\n",
      "Epoch 00018: val_loss did not improve from 1.44163\n",
      "Epoch 19/100\n",
      "53399/53399 [==============================] - 3s 47us/step - loss: 1.4342 - mean_absolute_percentage_error: 1.4342 - mean_absolute_error: 0.1920 - val_loss: 1.7349 - val_mean_absolute_percentage_error: 1.7349 - val_mean_absolute_error: 0.2353\n",
      "\n",
      "Epoch 00019: val_loss did not improve from 1.44163\n",
      "Epoch 20/100\n",
      "53399/53399 [==============================] - 3s 48us/step - loss: 1.4063 - mean_absolute_percentage_error: 1.4063 - mean_absolute_error: 0.1881 - val_loss: 1.3772 - val_mean_absolute_percentage_error: 1.3772 - val_mean_absolute_error: 0.1838\n",
      "\n",
      "Epoch 00020: val_loss improved from 1.44163 to 1.37718, saving model to tmp/bestWeights.hdf5\n",
      "Epoch 21/100\n",
      "53399/53399 [==============================] - 3s 49us/step - loss: 1.4004 - mean_absolute_percentage_error: 1.4004 - mean_absolute_error: 0.1872 - val_loss: 1.5283 - val_mean_absolute_percentage_error: 1.5283 - val_mean_absolute_error: 0.2042\n",
      "\n",
      "Epoch 00021: val_loss did not improve from 1.37718\n",
      "Epoch 22/100\n",
      "53399/53399 [==============================] - 3s 49us/step - loss: 1.4176 - mean_absolute_percentage_error: 1.4176 - mean_absolute_error: 0.1896 - val_loss: 1.4024 - val_mean_absolute_percentage_error: 1.4024 - val_mean_absolute_error: 0.1873\n",
      "\n",
      "Epoch 00022: val_loss did not improve from 1.37718\n",
      "Epoch 23/100\n",
      "53399/53399 [==============================] - 3s 48us/step - loss: 1.3879 - mean_absolute_percentage_error: 1.3879 - mean_absolute_error: 0.1857 - val_loss: 1.4607 - val_mean_absolute_percentage_error: 1.4607 - val_mean_absolute_error: 0.1960\n",
      "\n",
      "Epoch 00023: val_loss did not improve from 1.37718\n",
      "Epoch 24/100\n",
      "53399/53399 [==============================] - 3s 48us/step - loss: 1.3842 - mean_absolute_percentage_error: 1.3842 - mean_absolute_error: 0.1849 - val_loss: 1.4221 - val_mean_absolute_percentage_error: 1.4221 - val_mean_absolute_error: 0.1906\n",
      "\n",
      "Epoch 00024: val_loss did not improve from 1.37718\n",
      "Epoch 25/100\n",
      "53399/53399 [==============================] - 3s 50us/step - loss: 1.3831 - mean_absolute_percentage_error: 1.3831 - mean_absolute_error: 0.1850 - val_loss: 1.4239 - val_mean_absolute_percentage_error: 1.4239 - val_mean_absolute_error: 0.1901\n",
      "\n",
      "Epoch 00025: val_loss did not improve from 1.37718\n",
      "Epoch 26/100\n"
     ]
    },
    {
     "name": "stdout",
     "output_type": "stream",
     "text": [
      "53399/53399 [==============================] - 3s 49us/step - loss: 1.3689 - mean_absolute_percentage_error: 1.3689 - mean_absolute_error: 0.1831 - val_loss: 1.4331 - val_mean_absolute_percentage_error: 1.4331 - val_mean_absolute_error: 0.1927\n",
      "\n",
      "Epoch 00026: val_loss did not improve from 1.37718\n",
      "Epoch 27/100\n",
      "53399/53399 [==============================] - 3s 49us/step - loss: 1.3611 - mean_absolute_percentage_error: 1.3611 - mean_absolute_error: 0.1819 - val_loss: 1.3578 - val_mean_absolute_percentage_error: 1.3578 - val_mean_absolute_error: 0.1815\n",
      "\n",
      "Epoch 00027: val_loss improved from 1.37718 to 1.35783, saving model to tmp/bestWeights.hdf5\n",
      "Epoch 28/100\n",
      "53399/53399 [==============================] - 3s 48us/step - loss: 1.3633 - mean_absolute_percentage_error: 1.3633 - mean_absolute_error: 0.1821 - val_loss: 1.4993 - val_mean_absolute_percentage_error: 1.4993 - val_mean_absolute_error: 0.2011\n",
      "\n",
      "Epoch 00028: val_loss did not improve from 1.35783\n",
      "Epoch 29/100\n",
      "53399/53399 [==============================] - 3s 47us/step - loss: 1.3506 - mean_absolute_percentage_error: 1.3506 - mean_absolute_error: 0.1806 - val_loss: 1.4721 - val_mean_absolute_percentage_error: 1.4721 - val_mean_absolute_error: 0.1976\n",
      "\n",
      "Epoch 00029: val_loss did not improve from 1.35783\n",
      "Epoch 30/100\n",
      "53399/53399 [==============================] - 3s 48us/step - loss: 1.3461 - mean_absolute_percentage_error: 1.3461 - mean_absolute_error: 0.1800 - val_loss: 1.5880 - val_mean_absolute_percentage_error: 1.5880 - val_mean_absolute_error: 0.2152\n",
      "\n",
      "Epoch 00030: val_loss did not improve from 1.35783\n",
      "Epoch 31/100\n",
      "53399/53399 [==============================] - 3s 47us/step - loss: 1.3491 - mean_absolute_percentage_error: 1.3491 - mean_absolute_error: 0.1804 - val_loss: 1.4186 - val_mean_absolute_percentage_error: 1.4186 - val_mean_absolute_error: 0.1897\n",
      "\n",
      "Epoch 00031: val_loss did not improve from 1.35783\n",
      "Epoch 32/100\n",
      "53399/53399 [==============================] - 3s 48us/step - loss: 1.3334 - mean_absolute_percentage_error: 1.3334 - mean_absolute_error: 0.1783 - val_loss: 1.3663 - val_mean_absolute_percentage_error: 1.3663 - val_mean_absolute_error: 0.1823\n",
      "\n",
      "Epoch 00032: val_loss did not improve from 1.35783\n",
      "Epoch 33/100\n",
      "53399/53399 [==============================] - 3s 49us/step - loss: 1.3255 - mean_absolute_percentage_error: 1.3255 - mean_absolute_error: 0.1772 - val_loss: 1.6461 - val_mean_absolute_percentage_error: 1.6461 - val_mean_absolute_error: 0.2176\n",
      "\n",
      "Epoch 00033: val_loss did not improve from 1.35783\n",
      "Epoch 34/100\n",
      "53399/53399 [==============================] - 3s 49us/step - loss: 1.3144 - mean_absolute_percentage_error: 1.3144 - mean_absolute_error: 0.1757 - val_loss: 1.4265 - val_mean_absolute_percentage_error: 1.4265 - val_mean_absolute_error: 0.1913\n",
      "\n",
      "Epoch 00034: val_loss did not improve from 1.35783\n",
      "Epoch 35/100\n",
      "53399/53399 [==============================] - 3s 49us/step - loss: 1.3116 - mean_absolute_percentage_error: 1.3116 - mean_absolute_error: 0.1753 - val_loss: 1.4291 - val_mean_absolute_percentage_error: 1.4291 - val_mean_absolute_error: 0.1899\n",
      "\n",
      "Epoch 00035: val_loss did not improve from 1.35783\n",
      "Epoch 36/100\n",
      "53399/53399 [==============================] - 3s 49us/step - loss: 1.3108 - mean_absolute_percentage_error: 1.3108 - mean_absolute_error: 0.1752 - val_loss: 1.5590 - val_mean_absolute_percentage_error: 1.5590 - val_mean_absolute_error: 0.2064\n",
      "\n",
      "Epoch 00036: val_loss did not improve from 1.35783\n",
      "Epoch 37/100\n",
      "53399/53399 [==============================] - 3s 48us/step - loss: 1.3070 - mean_absolute_percentage_error: 1.3070 - mean_absolute_error: 0.1747 - val_loss: 1.5898 - val_mean_absolute_percentage_error: 1.5898 - val_mean_absolute_error: 0.2163\n",
      "\n",
      "Epoch 00037: val_loss did not improve from 1.35783\n",
      "Epoch 38/100\n",
      "53399/53399 [==============================] - 3s 48us/step - loss: 1.2843 - mean_absolute_percentage_error: 1.2843 - mean_absolute_error: 0.1716 - val_loss: 1.3374 - val_mean_absolute_percentage_error: 1.3374 - val_mean_absolute_error: 0.1788\n",
      "\n",
      "Epoch 00038: val_loss improved from 1.35783 to 1.33744, saving model to tmp/bestWeights.hdf5\n",
      "Epoch 39/100\n",
      "53399/53399 [==============================] - 3s 48us/step - loss: 1.3018 - mean_absolute_percentage_error: 1.3018 - mean_absolute_error: 0.1739 - val_loss: 1.3504 - val_mean_absolute_percentage_error: 1.3504 - val_mean_absolute_error: 0.1807\n",
      "\n",
      "Epoch 00039: val_loss did not improve from 1.33744\n",
      "Epoch 40/100\n",
      "53399/53399 [==============================] - 3s 48us/step - loss: 1.3053 - mean_absolute_percentage_error: 1.3053 - mean_absolute_error: 0.1744 - val_loss: 1.3562 - val_mean_absolute_percentage_error: 1.3562 - val_mean_absolute_error: 0.1810\n",
      "\n",
      "Epoch 00040: val_loss did not improve from 1.33744\n",
      "Epoch 41/100\n",
      "53399/53399 [==============================] - 3s 48us/step - loss: 1.2976 - mean_absolute_percentage_error: 1.2976 - mean_absolute_error: 0.1736 - val_loss: 1.4501 - val_mean_absolute_percentage_error: 1.4501 - val_mean_absolute_error: 0.1935\n",
      "\n",
      "Epoch 00041: val_loss did not improve from 1.33744\n",
      "Epoch 42/100\n",
      "53399/53399 [==============================] - 3s 49us/step - loss: 1.2812 - mean_absolute_percentage_error: 1.2812 - mean_absolute_error: 0.1712 - val_loss: 1.4376 - val_mean_absolute_percentage_error: 1.4376 - val_mean_absolute_error: 0.1925\n",
      "\n",
      "Epoch 00042: val_loss did not improve from 1.33744\n",
      "Epoch 43/100\n",
      "53399/53399 [==============================] - 3s 49us/step - loss: 1.2714 - mean_absolute_percentage_error: 1.2714 - mean_absolute_error: 0.1699 - val_loss: 1.3875 - val_mean_absolute_percentage_error: 1.3875 - val_mean_absolute_error: 0.1846\n",
      "\n",
      "Epoch 00043: val_loss did not improve from 1.33744\n",
      "Epoch 44/100\n",
      "53399/53399 [==============================] - 3s 48us/step - loss: 1.2728 - mean_absolute_percentage_error: 1.2728 - mean_absolute_error: 0.1700 - val_loss: 1.4636 - val_mean_absolute_percentage_error: 1.4636 - val_mean_absolute_error: 0.1962\n",
      "\n",
      "Epoch 00044: val_loss did not improve from 1.33744\n",
      "Epoch 45/100\n",
      "53399/53399 [==============================] - 3s 48us/step - loss: 1.2589 - mean_absolute_percentage_error: 1.2589 - mean_absolute_error: 0.1681 - val_loss: 1.3681 - val_mean_absolute_percentage_error: 1.3681 - val_mean_absolute_error: 0.1827\n",
      "\n",
      "Epoch 00045: val_loss did not improve from 1.33744\n",
      "Epoch 46/100\n",
      "53399/53399 [==============================] - 3s 48us/step - loss: 1.2710 - mean_absolute_percentage_error: 1.2710 - mean_absolute_error: 0.1698 - val_loss: 1.4208 - val_mean_absolute_percentage_error: 1.4208 - val_mean_absolute_error: 0.1905\n",
      "\n",
      "Epoch 00046: val_loss did not improve from 1.33744\n",
      "Epoch 47/100\n",
      "53399/53399 [==============================] - 3s 48us/step - loss: 1.2710 - mean_absolute_percentage_error: 1.2710 - mean_absolute_error: 0.1699 - val_loss: 1.3442 - val_mean_absolute_percentage_error: 1.3442 - val_mean_absolute_error: 0.1790\n",
      "\n",
      "Epoch 00047: val_loss did not improve from 1.33744\n",
      "Epoch 48/100\n",
      "53399/53399 [==============================] - 3s 49us/step - loss: 1.2463 - mean_absolute_percentage_error: 1.2463 - mean_absolute_error: 0.1666 - val_loss: 1.5504 - val_mean_absolute_percentage_error: 1.5504 - val_mean_absolute_error: 0.2080\n",
      "\n",
      "Epoch 00048: val_loss did not improve from 1.33744\n",
      "Epoch 49/100\n",
      "53399/53399 [==============================] - 3s 48us/step - loss: 1.2642 - mean_absolute_percentage_error: 1.2642 - mean_absolute_error: 0.1690 - val_loss: 1.5449 - val_mean_absolute_percentage_error: 1.5449 - val_mean_absolute_error: 0.2068\n",
      "\n",
      "Epoch 00049: val_loss did not improve from 1.33744\n",
      "Epoch 50/100\n",
      "53399/53399 [==============================] - 3s 48us/step - loss: 1.2442 - mean_absolute_percentage_error: 1.2442 - mean_absolute_error: 0.1663 - val_loss: 1.4326 - val_mean_absolute_percentage_error: 1.4326 - val_mean_absolute_error: 0.1920\n",
      "\n",
      "Epoch 00050: val_loss did not improve from 1.33744\n",
      "Epoch 51/100\n",
      "53399/53399 [==============================] - 3s 48us/step - loss: 1.2421 - mean_absolute_percentage_error: 1.2421 - mean_absolute_error: 0.1659 - val_loss: 1.4664 - val_mean_absolute_percentage_error: 1.4664 - val_mean_absolute_error: 0.1945\n",
      "\n",
      "Epoch 00051: val_loss did not improve from 1.33744\n",
      "Epoch 52/100\n"
     ]
    },
    {
     "name": "stdout",
     "output_type": "stream",
     "text": [
      "53399/53399 [==============================] - 3s 47us/step - loss: 1.2478 - mean_absolute_percentage_error: 1.2478 - mean_absolute_error: 0.1667 - val_loss: 1.3458 - val_mean_absolute_percentage_error: 1.3458 - val_mean_absolute_error: 0.1794\n",
      "\n",
      "Epoch 00052: val_loss did not improve from 1.33744\n",
      "Epoch 53/100\n",
      "53399/53399 [==============================] - 3s 48us/step - loss: 1.2397 - mean_absolute_percentage_error: 1.2397 - mean_absolute_error: 0.1657 - val_loss: 1.3399 - val_mean_absolute_percentage_error: 1.3399 - val_mean_absolute_error: 0.1789\n",
      "\n",
      "Epoch 00053: val_loss did not improve from 1.33744\n",
      "Epoch 54/100\n",
      "53399/53399 [==============================] - 3s 48us/step - loss: 1.2390 - mean_absolute_percentage_error: 1.2390 - mean_absolute_error: 0.1656 - val_loss: 1.5032 - val_mean_absolute_percentage_error: 1.5032 - val_mean_absolute_error: 0.2024\n",
      "\n",
      "Epoch 00054: val_loss did not improve from 1.33744\n",
      "Epoch 55/100\n",
      "53399/53399 [==============================] - 3s 47us/step - loss: 1.2264 - mean_absolute_percentage_error: 1.2264 - mean_absolute_error: 0.1639 - val_loss: 1.4023 - val_mean_absolute_percentage_error: 1.4023 - val_mean_absolute_error: 0.1861\n",
      "\n",
      "Epoch 00055: val_loss did not improve from 1.33744\n",
      "Epoch 56/100\n",
      "53399/53399 [==============================] - 3s 47us/step - loss: 1.2227 - mean_absolute_percentage_error: 1.2227 - mean_absolute_error: 0.1634 - val_loss: 1.3489 - val_mean_absolute_percentage_error: 1.3489 - val_mean_absolute_error: 0.1803\n",
      "\n",
      "Epoch 00056: val_loss did not improve from 1.33744\n",
      "Epoch 57/100\n",
      "53399/53399 [==============================] - 3s 48us/step - loss: 1.2139 - mean_absolute_percentage_error: 1.2139 - mean_absolute_error: 0.1622 - val_loss: 1.3356 - val_mean_absolute_percentage_error: 1.3356 - val_mean_absolute_error: 0.1782\n",
      "\n",
      "Epoch 00057: val_loss improved from 1.33744 to 1.33556, saving model to tmp/bestWeights.hdf5\n",
      "Epoch 58/100\n",
      "53399/53399 [==============================] - 3s 47us/step - loss: 1.2344 - mean_absolute_percentage_error: 1.2344 - mean_absolute_error: 0.1650 - val_loss: 1.3524 - val_mean_absolute_percentage_error: 1.3524 - val_mean_absolute_error: 0.1797\n",
      "\n",
      "Epoch 00058: val_loss did not improve from 1.33556\n",
      "Epoch 59/100\n",
      "53399/53399 [==============================] - 3s 48us/step - loss: 1.2253 - mean_absolute_percentage_error: 1.2253 - mean_absolute_error: 0.1637 - val_loss: 1.3290 - val_mean_absolute_percentage_error: 1.3290 - val_mean_absolute_error: 0.1772\n",
      "\n",
      "Epoch 00059: val_loss improved from 1.33556 to 1.32896, saving model to tmp/bestWeights.hdf5\n",
      "Epoch 60/100\n",
      "53399/53399 [==============================] - 3s 50us/step - loss: 1.2107 - mean_absolute_percentage_error: 1.2107 - mean_absolute_error: 0.1618 - val_loss: 1.5022 - val_mean_absolute_percentage_error: 1.5022 - val_mean_absolute_error: 0.1986\n",
      "\n",
      "Epoch 00060: val_loss did not improve from 1.32896\n",
      "Epoch 61/100\n",
      "53399/53399 [==============================] - 3s 48us/step - loss: 1.2196 - mean_absolute_percentage_error: 1.2196 - mean_absolute_error: 0.1630 - val_loss: 1.4048 - val_mean_absolute_percentage_error: 1.4048 - val_mean_absolute_error: 0.1880\n",
      "\n",
      "Epoch 00061: val_loss did not improve from 1.32896\n",
      "Epoch 62/100\n",
      "53399/53399 [==============================] - 3s 48us/step - loss: 1.2151 - mean_absolute_percentage_error: 1.2151 - mean_absolute_error: 0.1624 - val_loss: 1.3389 - val_mean_absolute_percentage_error: 1.3389 - val_mean_absolute_error: 0.1791\n",
      "\n",
      "Epoch 00062: val_loss did not improve from 1.32896\n",
      "Epoch 63/100\n",
      "53399/53399 [==============================] - 3s 48us/step - loss: 1.2110 - mean_absolute_percentage_error: 1.2110 - mean_absolute_error: 0.1618 - val_loss: 1.3612 - val_mean_absolute_percentage_error: 1.3612 - val_mean_absolute_error: 0.1817\n",
      "\n",
      "Epoch 00063: val_loss did not improve from 1.32896\n",
      "Epoch 64/100\n",
      "53399/53399 [==============================] - 3s 49us/step - loss: 1.2179 - mean_absolute_percentage_error: 1.2179 - mean_absolute_error: 0.1627 - val_loss: 1.3630 - val_mean_absolute_percentage_error: 1.3630 - val_mean_absolute_error: 0.1815\n",
      "\n",
      "Epoch 00064: val_loss did not improve from 1.32896\n",
      "Epoch 65/100\n",
      "53399/53399 [==============================] - 3s 48us/step - loss: 1.1980 - mean_absolute_percentage_error: 1.1980 - mean_absolute_error: 0.1601 - val_loss: 1.3379 - val_mean_absolute_percentage_error: 1.3379 - val_mean_absolute_error: 0.1789\n",
      "\n",
      "Epoch 00065: val_loss did not improve from 1.32896\n",
      "Epoch 66/100\n",
      "53399/53399 [==============================] - 3s 48us/step - loss: 1.2223 - mean_absolute_percentage_error: 1.2223 - mean_absolute_error: 0.1634 - val_loss: 1.4403 - val_mean_absolute_percentage_error: 1.4403 - val_mean_absolute_error: 0.1915\n",
      "\n",
      "Epoch 00066: val_loss did not improve from 1.32896\n",
      "Epoch 67/100\n",
      "53399/53399 [==============================] - 3s 48us/step - loss: 1.1859 - mean_absolute_percentage_error: 1.1859 - mean_absolute_error: 0.1584 - val_loss: 1.3956 - val_mean_absolute_percentage_error: 1.3956 - val_mean_absolute_error: 0.1876\n",
      "\n",
      "Epoch 00067: val_loss did not improve from 1.32896\n",
      "Epoch 68/100\n",
      "53399/53399 [==============================] - 3s 47us/step - loss: 1.2124 - mean_absolute_percentage_error: 1.2124 - mean_absolute_error: 0.1620 - val_loss: 1.3391 - val_mean_absolute_percentage_error: 1.3391 - val_mean_absolute_error: 0.1787\n",
      "\n",
      "Epoch 00068: val_loss did not improve from 1.32896\n",
      "Epoch 69/100\n",
      "53399/53399 [==============================] - 3s 47us/step - loss: 1.1849 - mean_absolute_percentage_error: 1.1849 - mean_absolute_error: 0.1584 - val_loss: 1.3560 - val_mean_absolute_percentage_error: 1.3560 - val_mean_absolute_error: 0.1803\n",
      "\n",
      "Epoch 00069: val_loss did not improve from 1.32896\n",
      "Epoch 70/100\n",
      "53399/53399 [==============================] - 3s 49us/step - loss: 1.1809 - mean_absolute_percentage_error: 1.1809 - mean_absolute_error: 0.1578 - val_loss: 1.3078 - val_mean_absolute_percentage_error: 1.3078 - val_mean_absolute_error: 0.1745\n",
      "\n",
      "Epoch 00070: val_loss improved from 1.32896 to 1.30784, saving model to tmp/bestWeights.hdf5\n",
      "Epoch 71/100\n",
      "53399/53399 [==============================] - 3s 49us/step - loss: 1.1886 - mean_absolute_percentage_error: 1.1886 - mean_absolute_error: 0.1588 - val_loss: 1.6066 - val_mean_absolute_percentage_error: 1.6066 - val_mean_absolute_error: 0.2160\n",
      "\n",
      "Epoch 00071: val_loss did not improve from 1.30784\n",
      "Epoch 72/100\n",
      "53399/53399 [==============================] - 3s 48us/step - loss: 1.1857 - mean_absolute_percentage_error: 1.1857 - mean_absolute_error: 0.1583 - val_loss: 1.3658 - val_mean_absolute_percentage_error: 1.3658 - val_mean_absolute_error: 0.1813\n",
      "\n",
      "Epoch 00072: val_loss did not improve from 1.30784\n",
      "Epoch 73/100\n",
      "53399/53399 [==============================] - 3s 49us/step - loss: 1.1919 - mean_absolute_percentage_error: 1.1919 - mean_absolute_error: 0.1592 - val_loss: 1.3224 - val_mean_absolute_percentage_error: 1.3224 - val_mean_absolute_error: 0.1768\n",
      "\n",
      "Epoch 00073: val_loss did not improve from 1.30784\n",
      "Epoch 74/100\n",
      "53399/53399 [==============================] - 3s 48us/step - loss: 1.1810 - mean_absolute_percentage_error: 1.1810 - mean_absolute_error: 0.1578 - val_loss: 1.3062 - val_mean_absolute_percentage_error: 1.3062 - val_mean_absolute_error: 0.1739\n",
      "\n",
      "Epoch 00074: val_loss improved from 1.30784 to 1.30617, saving model to tmp/bestWeights.hdf5\n",
      "Epoch 75/100\n",
      "53399/53399 [==============================] - 3s 48us/step - loss: 1.1785 - mean_absolute_percentage_error: 1.1785 - mean_absolute_error: 0.1573 - val_loss: 1.3990 - val_mean_absolute_percentage_error: 1.3990 - val_mean_absolute_error: 0.1866\n",
      "\n",
      "Epoch 00075: val_loss did not improve from 1.30617\n",
      "Epoch 76/100\n",
      "53399/53399 [==============================] - 3s 49us/step - loss: 1.1854 - mean_absolute_percentage_error: 1.1854 - mean_absolute_error: 0.1584 - val_loss: 1.3236 - val_mean_absolute_percentage_error: 1.3236 - val_mean_absolute_error: 0.1764\n",
      "\n",
      "Epoch 00076: val_loss did not improve from 1.30617\n",
      "Epoch 77/100\n",
      "53399/53399 [==============================] - 3s 49us/step - loss: 1.1700 - mean_absolute_percentage_error: 1.1700 - mean_absolute_error: 0.1563 - val_loss: 1.3643 - val_mean_absolute_percentage_error: 1.3643 - val_mean_absolute_error: 0.1823\n",
      "\n",
      "Epoch 00077: val_loss did not improve from 1.30617\n",
      "Epoch 78/100\n"
     ]
    },
    {
     "name": "stdout",
     "output_type": "stream",
     "text": [
      "53399/53399 [==============================] - 3s 49us/step - loss: 1.1745 - mean_absolute_percentage_error: 1.1745 - mean_absolute_error: 0.1568 - val_loss: 1.3742 - val_mean_absolute_percentage_error: 1.3742 - val_mean_absolute_error: 0.1834\n",
      "\n",
      "Epoch 00078: val_loss did not improve from 1.30617\n",
      "Epoch 79/100\n",
      "53399/53399 [==============================] - 3s 48us/step - loss: 1.1505 - mean_absolute_percentage_error: 1.1505 - mean_absolute_error: 0.1537 - val_loss: 1.3102 - val_mean_absolute_percentage_error: 1.3102 - val_mean_absolute_error: 0.1741\n",
      "\n",
      "Epoch 00079: val_loss did not improve from 1.30617\n",
      "Epoch 80/100\n",
      "53399/53399 [==============================] - 3s 48us/step - loss: 1.1793 - mean_absolute_percentage_error: 1.1793 - mean_absolute_error: 0.1575 - val_loss: 1.4065 - val_mean_absolute_percentage_error: 1.4065 - val_mean_absolute_error: 0.1865\n",
      "\n",
      "Epoch 00080: val_loss did not improve from 1.30617\n",
      "Epoch 81/100\n",
      "53399/53399 [==============================] - 3s 49us/step - loss: 1.1657 - mean_absolute_percentage_error: 1.1657 - mean_absolute_error: 0.1557 - val_loss: 1.3075 - val_mean_absolute_percentage_error: 1.3075 - val_mean_absolute_error: 0.1748\n",
      "\n",
      "Epoch 00081: val_loss did not improve from 1.30617\n",
      "Epoch 82/100\n",
      "53399/53399 [==============================] - 3s 48us/step - loss: 1.1626 - mean_absolute_percentage_error: 1.1626 - mean_absolute_error: 0.1553 - val_loss: 1.4687 - val_mean_absolute_percentage_error: 1.4687 - val_mean_absolute_error: 0.1966\n",
      "\n",
      "Epoch 00082: val_loss did not improve from 1.30617\n",
      "Epoch 83/100\n",
      "53399/53399 [==============================] - 3s 48us/step - loss: 1.1675 - mean_absolute_percentage_error: 1.1675 - mean_absolute_error: 0.1560 - val_loss: 1.3101 - val_mean_absolute_percentage_error: 1.3101 - val_mean_absolute_error: 0.1749\n",
      "\n",
      "Epoch 00083: val_loss did not improve from 1.30617\n",
      "Epoch 84/100\n",
      "53399/53399 [==============================] - 3s 49us/step - loss: 1.1591 - mean_absolute_percentage_error: 1.1591 - mean_absolute_error: 0.1548 - val_loss: 1.3177 - val_mean_absolute_percentage_error: 1.3177 - val_mean_absolute_error: 0.1756\n",
      "\n",
      "Epoch 00084: val_loss did not improve from 1.30617\n",
      "Epoch 85/100\n",
      "53399/53399 [==============================] - 3s 48us/step - loss: 1.1577 - mean_absolute_percentage_error: 1.1577 - mean_absolute_error: 0.1546 - val_loss: 1.3414 - val_mean_absolute_percentage_error: 1.3414 - val_mean_absolute_error: 0.1792\n",
      "\n",
      "Epoch 00085: val_loss did not improve from 1.30617\n",
      "Epoch 86/100\n",
      "53399/53399 [==============================] - 3s 48us/step - loss: 1.1595 - mean_absolute_percentage_error: 1.1595 - mean_absolute_error: 0.1549 - val_loss: 1.4060 - val_mean_absolute_percentage_error: 1.4060 - val_mean_absolute_error: 0.1880\n",
      "\n",
      "Epoch 00086: val_loss did not improve from 1.30617\n",
      "Epoch 87/100\n",
      "53399/53399 [==============================] - 3s 48us/step - loss: 1.1734 - mean_absolute_percentage_error: 1.1734 - mean_absolute_error: 0.1568 - val_loss: 1.3204 - val_mean_absolute_percentage_error: 1.3204 - val_mean_absolute_error: 0.1760\n",
      "\n",
      "Epoch 00087: val_loss did not improve from 1.30617\n",
      "Epoch 88/100\n",
      "53399/53399 [==============================] - 3s 47us/step - loss: 1.1472 - mean_absolute_percentage_error: 1.1472 - mean_absolute_error: 0.1533 - val_loss: 1.3043 - val_mean_absolute_percentage_error: 1.3043 - val_mean_absolute_error: 0.1736\n",
      "\n",
      "Epoch 00088: val_loss improved from 1.30617 to 1.30435, saving model to tmp/bestWeights.hdf5\n",
      "Epoch 89/100\n",
      "53399/53399 [==============================] - 3s 47us/step - loss: 1.1559 - mean_absolute_percentage_error: 1.1559 - mean_absolute_error: 0.1544 - val_loss: 1.3557 - val_mean_absolute_percentage_error: 1.3557 - val_mean_absolute_error: 0.1796\n",
      "\n",
      "Epoch 00089: val_loss did not improve from 1.30435\n",
      "Epoch 90/100\n",
      "53399/53399 [==============================] - 3s 48us/step - loss: 1.1471 - mean_absolute_percentage_error: 1.1471 - mean_absolute_error: 0.1532 - val_loss: 1.4935 - val_mean_absolute_percentage_error: 1.4935 - val_mean_absolute_error: 0.1965\n",
      "\n",
      "Epoch 00090: val_loss did not improve from 1.30435\n",
      "Epoch 91/100\n",
      "53399/53399 [==============================] - 3s 48us/step - loss: 1.1592 - mean_absolute_percentage_error: 1.1592 - mean_absolute_error: 0.1548 - val_loss: 1.4660 - val_mean_absolute_percentage_error: 1.4660 - val_mean_absolute_error: 0.1964\n",
      "\n",
      "Epoch 00091: val_loss did not improve from 1.30435\n",
      "Epoch 92/100\n",
      "53399/53399 [==============================] - 3s 48us/step - loss: 1.1472 - mean_absolute_percentage_error: 1.1472 - mean_absolute_error: 0.1532 - val_loss: 1.3381 - val_mean_absolute_percentage_error: 1.3381 - val_mean_absolute_error: 0.1784\n",
      "\n",
      "Epoch 00092: val_loss did not improve from 1.30435\n",
      "Epoch 93/100\n",
      "53399/53399 [==============================] - 3s 48us/step - loss: 1.1334 - mean_absolute_percentage_error: 1.1334 - mean_absolute_error: 0.1514 - val_loss: 1.2887 - val_mean_absolute_percentage_error: 1.2887 - val_mean_absolute_error: 0.1715\n",
      "\n",
      "Epoch 00093: val_loss improved from 1.30435 to 1.28874, saving model to tmp/bestWeights.hdf5\n",
      "Epoch 94/100\n",
      "53399/53399 [==============================] - 3s 48us/step - loss: 1.1318 - mean_absolute_percentage_error: 1.1318 - mean_absolute_error: 0.1511 - val_loss: 1.3016 - val_mean_absolute_percentage_error: 1.3016 - val_mean_absolute_error: 0.1731\n",
      "\n",
      "Epoch 00094: val_loss did not improve from 1.28874\n",
      "Epoch 95/100\n",
      "53399/53399 [==============================] - 3s 50us/step - loss: 1.1334 - mean_absolute_percentage_error: 1.1334 - mean_absolute_error: 0.1513 - val_loss: 1.3256 - val_mean_absolute_percentage_error: 1.3256 - val_mean_absolute_error: 0.1767\n",
      "\n",
      "Epoch 00095: val_loss did not improve from 1.28874\n",
      "Epoch 96/100\n",
      "53399/53399 [==============================] - 3s 51us/step - loss: 1.1301 - mean_absolute_percentage_error: 1.1301 - mean_absolute_error: 0.1509 - val_loss: 1.4891 - val_mean_absolute_percentage_error: 1.4891 - val_mean_absolute_error: 0.1985\n",
      "\n",
      "Epoch 00096: val_loss did not improve from 1.28874\n",
      "Epoch 97/100\n",
      "53399/53399 [==============================] - 3s 50us/step - loss: 1.1365 - mean_absolute_percentage_error: 1.1365 - mean_absolute_error: 0.1518 - val_loss: 1.3493 - val_mean_absolute_percentage_error: 1.3493 - val_mean_absolute_error: 0.1800\n",
      "\n",
      "Epoch 00097: val_loss did not improve from 1.28874\n",
      "Epoch 98/100\n",
      "53399/53399 [==============================] - 3s 48us/step - loss: 1.1359 - mean_absolute_percentage_error: 1.1359 - mean_absolute_error: 0.1517 - val_loss: 1.3683 - val_mean_absolute_percentage_error: 1.3683 - val_mean_absolute_error: 0.1825\n",
      "\n",
      "Epoch 00098: val_loss did not improve from 1.28874\n",
      "Epoch 99/100\n",
      "53399/53399 [==============================] - 3s 50us/step - loss: 1.1405 - mean_absolute_percentage_error: 1.1405 - mean_absolute_error: 0.1524 - val_loss: 1.3836 - val_mean_absolute_percentage_error: 1.3836 - val_mean_absolute_error: 0.1845\n",
      "\n",
      "Epoch 00099: val_loss did not improve from 1.28874\n",
      "Epoch 100/100\n",
      "53399/53399 [==============================] - 3s 49us/step - loss: 1.1243 - mean_absolute_percentage_error: 1.1243 - mean_absolute_error: 0.1501 - val_loss: 1.3576 - val_mean_absolute_percentage_error: 1.3576 - val_mean_absolute_error: 0.1803\n",
      "\n",
      "Epoch 00100: val_loss did not improve from 1.28874\n"
     ]
    },
    {
     "data": {
      "image/png": "[encoded data removed]",
      "text/plain": [
       "<Figure size 432x288 with 1 Axes>"
      ]
     },
     "metadata": {
      "needs_background": "light"
     },
     "output_type": "display_data"
    }
   ],
   "source": [
    "#DL模型訓練\n",
    "from keras import models\n",
    "from keras import layers\n",
    "from keras import optimizers\n",
    "from sklearn import preprocessing\n",
    "from keras.layers.core import Dense, Dropout, Activation,Flatten\n",
    "from keras.layers.recurrent import LSTM\n",
    "from keras.callbacks import EarlyStopping\n",
    "from keras.callbacks import ModelCheckpoint\n",
    "from keras import backend as K\n",
    "def build_model():\n",
    "    model = models.Sequential()\n",
    "    model.add(layers.Dense(64, activation='relu',input_shape=(x1.shape[1],)))\n",
    "    model.add(layers.Dense(32, activation='relu'))\n",
    "    #model.add(Dropout(0.1))\n",
    "    model.add(layers.Dense(1))\n",
    "    optimizer=optimizers.Adam(lr=0.001, beta_1=0.9, beta_2=0.999, epsilon=None, decay=0.0, amsgrad=False)\n",
    "    model.compile(loss='mape', optimizer=optimizer, metrics=['mape','mae'])\n",
    "    return model\n",
    "def drawLoss(train_history):\n",
    "    #劃出loss rate變化\n",
    "    import matplotlib.pyplot as plt\n",
    "    def show_train_history(train_history,train,validation):\n",
    "        plt.plot(train_history.history[train])\n",
    "        plt.plot(train_history.history[validation])\n",
    "        plt.title('Train History')\n",
    "        plt.ylabel(train)\n",
    "        plt.xlabel('Epoch')\n",
    "        plt.legend(['train', 'validation'], loc='upper left')\n",
    "        plt.show()\n",
    "    show_train_history(train_history,'loss','val_loss')\n",
    "#看訓練資料集符合比賽計分制的得分情況\n",
    "def checkScore(modelok):\n",
    "    import seaborn as sns\n",
    "    predX = modelok.predict(x1)\n",
    "    predictionX=np.expm1(predX)\n",
    "    predictionX = pd.DataFrame(predictionX)\n",
    "    finalAnsA=df[['building_id','building_area','total_price']]\n",
    "    finalAnsA['newAvg']=predictionX\n",
    "    finalAnsA['newTotal']=finalAnsA['newAvg']*finalAnsA['building_area']\n",
    "    finalAnsA['diff']=abs(finalAnsA['newTotal']-finalAnsA['total_price'])\n",
    "    finalAnsA['errorRate']=finalAnsA['diff']/finalAnsA['total_price']\n",
    "    okNum=finalAnsA[finalAnsA['errorRate']<=0.1]\n",
    "    okRate=okNum.shape[0]/predictionX.shape[0]\n",
    "    print (\"訓練集正確率=%s/%s=%s\" %(okNum.shape[0], predictionX.shape[0],okNum.shape[0]/predictionX.shape[0])  )\n",
    "    return predX    \n",
    "#開始訓練模型\n",
    "modelok = build_model() \n",
    "#設定參數\n",
    "#若驗證損失下降，則保存模型，以確保最終可以用最佳狀態的模型進行預測。\n",
    "#early_stopping = EarlyStopping(monitor='val_loss', patience=100, verbose=0,mode='min')\n",
    "checkpointer = ModelCheckpoint(filepath='tmp/bestWeights.hdf5', verbose=1, save_best_only=True)\n",
    "#checkpointer = ModelCheckpoint(filepath='data/bestWeights.hdf5', verbose=1, save_best_only=True)\n",
    "train_history=modelok.fit(X_train, y_train, validation_split=0.1, epochs=100, batch_size=64,callbacks=[checkpointer], verbose=1)\n",
    "drawLoss(train_history)\n",
    "#將DL的訓練集預測結果加到S_train中\n",
    "\n"
   ]
  },
  {
   "cell_type": "code",
   "execution_count": 27,
   "metadata": {
    "colab": {
     "base_uri": "https://localhost:8080/",
     "height": 34
    },
    "colab_type": "code",
    "executionInfo": {
     "elapsed": 5126,
     "status": "ok",
     "timestamp": 1563374892422,
     "user": {
      "displayName": "Yu Chun Lin",
      "photoUrl": "https://lh4.googleusercontent.com/-QkJGFXovVfg/AAAAAAAAAAI/AAAAAAAAAB8/0NUdCGR_qdc/s64/photo.jpg",
      "userId": "05915152332630955963"
     },
     "user_tz": -480
    },
    "id": "O_30jrysP_M-",
    "outputId": "db51083c-4094-4db1-9014-f7d3702e5693"
   },
   "outputs": [
    {
     "name": "stdout",
     "output_type": "stream",
     "text": [
      "訓練集正確率=28946/59333=0.4878566733520975\n"
     ]
    }
   ],
   "source": [
    "import tensorflow as tf\n",
    "modelok = tf.contrib.keras.models.load_model('tmp/bestWeights.hdf5')\n",
    "trainY = checkScore(modelok)\n",
    "testY = modelok.predict(tx1)"
   ]
  },
  {
   "cell_type": "code",
   "execution_count": 37,
   "metadata": {},
   "outputs": [
    {
     "data": {
      "text/plain": [
       "(59333, 4)"
      ]
     },
     "execution_count": 37,
     "metadata": {},
     "output_type": "execute_result"
    }
   ],
   "source": [
    "S_train.shape"
   ]
  },
  {
   "cell_type": "code",
   "execution_count": 38,
   "metadata": {},
   "outputs": [
    {
     "data": {
      "text/plain": [
       "(59333, 1)"
      ]
     },
     "execution_count": 38,
     "metadata": {},
     "output_type": "execute_result"
    }
   ],
   "source": [
    "trainY.shape"
   ]
  },
  {
   "cell_type": "code",
   "execution_count": 30,
   "metadata": {
    "colab": {},
    "colab_type": "code",
    "id": "5lQYlt_VQnNG"
   },
   "outputs": [],
   "source": [
    "newS_train=np.concatenate((S_train,trainY),axis=1)\n",
    "newS_test=np.concatenate((S_test,testY),axis=1)"
   ]
  },
  {
   "cell_type": "code",
   "execution_count": 41,
   "metadata": {},
   "outputs": [
    {
     "data": {
      "text/plain": [
       "array([12.17971982, 12.38821521, 12.44546105, 12.2175827 , 12.21943855])"
      ]
     },
     "execution_count": 41,
     "metadata": {},
     "output_type": "execute_result"
    }
   ],
   "source": [
    "newS_train[0]"
   ]
  },
  {
   "cell_type": "markdown",
   "metadata": {
    "colab_type": "text",
    "id": "9DZmaL9q91QG"
   },
   "source": [
    "## 第二層"
   ]
  },
  {
   "cell_type": "code",
   "execution_count": 32,
   "metadata": {
    "colab": {
     "base_uri": "https://localhost:8080/",
     "height": 34
    },
    "colab_type": "code",
    "executionInfo": {
     "elapsed": 15517,
     "status": "ok",
     "timestamp": 1563373387722,
     "user": {
      "displayName": "Yu Chun Lin",
      "photoUrl": "https://lh4.googleusercontent.com/-QkJGFXovVfg/AAAAAAAAAAI/AAAAAAAAAB8/0NUdCGR_qdc/s64/photo.jpg",
      "userId": "05915152332630955963"
     },
     "user_tz": -480
    },
    "id": "nsHOPacl91QH",
    "outputId": "3e5f7415-9989-4483-8abc-feddf8d5632b"
   },
   "outputs": [],
   "source": [
    "#model = XGBRegressor(metric = mean_absolute_error, max_depth=20)\n",
    "\n",
    "model = XGBRegressor(max_depth=20)\n",
    "model = model.fit(newS_train, y_train)"
   ]
  },
  {
   "cell_type": "markdown",
   "metadata": {
    "colab_type": "text",
    "id": "5lbjPP4H91QN"
   },
   "source": [
    "## 儲存預測結果"
   ]
  },
  {
   "cell_type": "code",
   "execution_count": 33,
   "metadata": {
    "colab": {},
    "colab_type": "code",
    "id": "WNz0KLCh91QS"
   },
   "outputs": [],
   "source": [
    "y_pred = model.predict(newS_test)\n",
    "y_pred = np.expm1(y_pred)"
   ]
  },
  {
   "cell_type": "code",
   "execution_count": 36,
   "metadata": {
    "colab": {},
    "colab_type": "code",
    "id": "VV3dLA_a91QV"
   },
   "outputs": [],
   "source": [
    "#from google.colab import files\n",
    "#y_pred = pd.DataFrame(y_pred)\n",
    "\n",
    "finalAns=testDf[['building_id','building_area']]\n",
    "finalAns['avg']=y_pred\n",
    "finalAns['total_price']=finalAns['avg']*finalAns['building_area']\n",
    "finalAns=finalAns.drop(['building_area','avg'], axis = 1)\n",
    "finalAns.to_csv('submit_test.csv',index=False)\n",
    "#files.download('submit_test.csv')"
   ]
  },
  {
   "cell_type": "code",
   "execution_count": 0,
   "metadata": {
    "colab": {},
    "colab_type": "code",
    "id": "_gTQz3YE91QZ"
   },
   "outputs": [],
   "source": []
  }
 ],
 "metadata": {
  "colab": {
   "name": "“DML-Stacking-0715-01.ipynb”的副本",
   "provenance": [
    {
     "file_id": "1WON2HmPdSuN9mW_FNn4UoZlB1cfieujc",
     "timestamp": 1563374902695
    },
    {
     "file_id": "1mbvpXeA_T6-fq_Jhc7wJBb11uEXHo5Z1",
     "timestamp": 1563183200544
    }
   ],
   "version": "0.3.2"
  },
  "kernelspec": {
   "display_name": "Python 3",
   "language": "python",
   "name": "python3"
  },
  "language_info": {
   "codemirror_mode": {
    "name": "ipython",
    "version": 3
   },
   "file_extension": ".py",
   "mimetype": "text/x-python",
   "name": "python",
   "nbconvert_exporter": "python",
   "pygments_lexer": "ipython3",
   "version": "3.7.3"
  }
 },
 "nbformat": 4,
 "nbformat_minor": 1
}
